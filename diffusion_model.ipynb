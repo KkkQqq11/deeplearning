{
 "cells": [
  {
   "cell_type": "code",
   "outputs": [],
   "source": [
    "import torch\n",
    "from torch import nn\n",
    "from typing import Tuple, Optional\n",
    "from torch.nn import functional as F"
   ],
   "metadata": {
    "collapsed": false,
    "ExecuteTime": {
     "end_time": "2024-03-23T06:25:12.338807Z",
     "start_time": "2024-03-23T06:25:11.508338Z"
    }
   },
   "id": "f2aa71d67fee543e",
   "execution_count": 2
  },
  {
   "cell_type": "code",
   "outputs": [],
   "source": [
    "def gather(consts: torch.Tensor, t: torch.Tensor):\n",
    "    \"\"\"Gather consts for t and reshape to feature map shape\"\"\"\n",
    "    c = consts.gather(-1, t)\n",
    "    return c.reshape(-1, 1, 1, 1)"
   ],
   "metadata": {
    "collapsed": false,
    "ExecuteTime": {
     "end_time": "2024-03-23T06:36:15.040276Z",
     "start_time": "2024-03-23T06:36:15.038205Z"
    }
   },
   "id": "26b4c0e81dc3795d",
   "execution_count": 13
  },
  {
   "cell_type": "code",
   "execution_count": null,
   "id": "initial_id",
   "metadata": {
    "collapsed": true
   },
   "outputs": [],
   "source": [
    "class DenoiseDiffusion:\n",
    "    \n",
    "    def __init__(self, eps_model: nn.Module, n_steps: int, device: torch.device):\n",
    "        \"\"\"\n",
    "        :param eps_model:  Unet去噪网络\n",
    "        :param n_steps: 训练总步数\n",
    "        :param device: \n",
    "        \"\"\"\n",
    "        super().__init__()\n",
    "        self.eps_model = eps_model\n",
    "        self.beta = torch.linspace(0.0001, 0.02, n_steps).to(device)\n",
    "        self.alpha = 1. - self.beta\n",
    "        self.alpha_bar = torch.cumprob(self.alpha, dim=0)\n",
    "        self.n_steps = n_steps\n",
    "        self.sigma2 = self.beta\n",
    "        \n",
    "    def q_xt_x0(self, x0: torch.Tensor, t: torch.Tensor) -> Tuple[torch.Tensor, torch.Tensor]:\n",
    "        \"\"\"\n",
    "        :param x0:  来自训练数据的干净的图片\n",
    "        :param t:  时间步\n",
    "        :return: \n",
    "            mean: xt服从的高斯分布均值\n",
    "            var： xt服从的高斯分布方差\n",
    "        \"\"\"\n",
    "        mean = gather(self.alpha_bar, t) ** 0.5 * x0\n",
    "        var = 1 - gather(self.alpha_bar, t)\n",
    "        return mean, var\n",
    "    \n",
    "    def q_sample(self, x0: torch.Tensor, t: torch.Tensor, eps: Optional[torch.Tensor] = None):\n",
    "        if eps is None:\n",
    "            eps = torch.randn_like(x0)\n",
    "\n",
    "        mean, var = self.q_xt_x0(x0, t)\n",
    "        return mean + (var ** 0.5) * eps\n",
    "    \n",
    "    def p_sample(self, xt: torch.Tensor, t: torch.Tensor):\n",
    "\n",
    "        eps_theta = self.eps_model(xt, t)\n",
    "        alpha_bar = gather(self.alpha_bar, t)\n",
    "        alpha = gather(self.alpha, t)\n",
    "        eps_coef = (1 - alpha) / (1 - alpha_bar) ** .5\n",
    "        mean = 1 / (alpha ** 0.5) * (xt - eps_coef * eps_theta)\n",
    "        var = gather(self.sigma2, t)\n",
    "\n",
    "        eps = torch.randn(xt.shape, device=xt.device)\n",
    "        # Sample\n",
    "        return mean + (var ** .5) * eps\n",
    "    \n",
    "    def loss(self, x0: torch.Tensor, noise: Optional[torch.Tensor] = None):\n",
    "\n",
    "        # Get batch size\n",
    "        batch_size = x0.shape[0]\n",
    "        t = torch.randint(0, self.n_steps, (batch_size,), device=x0.device, dtype=torch.long)\n",
    "        if noise is None:\n",
    "            noise = torch.randn_like(x0)\n",
    "\n",
    "        xt = self.q_sample(x0, t, eps=noise)\n",
    "        eps_theta = self.eps_model(xt, t)\n",
    "\n",
    "        # MSE loss\n",
    "        return F.mse_loss(noise, eps_theta)"
   ]
  },
  {
   "cell_type": "code",
   "outputs": [],
   "source": [
    "t = torch.randint(0, 1000, (16,), device=\"cpu\", dtype=torch.long)"
   ],
   "metadata": {
    "collapsed": false,
    "ExecuteTime": {
     "end_time": "2024-03-23T06:25:15.401756Z",
     "start_time": "2024-03-23T06:25:15.398938Z"
    }
   },
   "id": "e6a21ce4131d99f4",
   "execution_count": 3
  },
  {
   "cell_type": "code",
   "outputs": [],
   "source": [
    "beta = torch.linspace(0.0001, 0.02, 1000)\n",
    "alpha = 1. - beta\n",
    "alpha_bar = torch.cumprod(alpha, dim=0)"
   ],
   "metadata": {
    "collapsed": false,
    "ExecuteTime": {
     "end_time": "2024-03-23T06:31:59.397426Z",
     "start_time": "2024-03-23T06:31:59.395198Z"
    }
   },
   "id": "cf3bfab9e912482b",
   "execution_count": 6
  },
  {
   "cell_type": "code",
   "outputs": [],
   "source": [
    "x0 = torch.randn([16, 3, 256, 256])"
   ],
   "metadata": {
    "collapsed": false,
    "ExecuteTime": {
     "end_time": "2024-03-23T06:36:05.878625Z",
     "start_time": "2024-03-23T06:36:05.865309Z"
    }
   },
   "id": "cf83fc80f9af63df",
   "execution_count": 11
  },
  {
   "cell_type": "code",
   "outputs": [
    {
     "data": {
      "text/plain": "torch.Size([16, 3, 256, 256])"
     },
     "execution_count": 15,
     "metadata": {},
     "output_type": "execute_result"
    }
   ],
   "source": [
    "mean = gather(alpha_bar, t) ** 0.5 * x0\n",
    "mean.shape"
   ],
   "metadata": {
    "collapsed": false,
    "ExecuteTime": {
     "end_time": "2024-03-23T06:36:25.548711Z",
     "start_time": "2024-03-23T06:36:25.544360Z"
    }
   },
   "id": "a1a1caf50d623cda",
   "execution_count": 15
  }
 ],
 "metadata": {
  "kernelspec": {
   "display_name": "Python 3",
   "language": "python",
   "name": "python3"
  },
  "language_info": {
   "codemirror_mode": {
    "name": "ipython",
    "version": 2
   },
   "file_extension": ".py",
   "mimetype": "text/x-python",
   "name": "python",
   "nbconvert_exporter": "python",
   "pygments_lexer": "ipython2",
   "version": "2.7.6"
  }
 },
 "nbformat": 4,
 "nbformat_minor": 5
}
