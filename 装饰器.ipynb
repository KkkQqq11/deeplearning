{
 "cells": [
  {
   "cell_type": "code",
   "execution_count": 1,
   "id": "initial_id",
   "metadata": {
    "collapsed": true,
    "ExecuteTime": {
     "end_time": "2024-03-25T07:56:04.365599Z",
     "start_time": "2024-03-25T07:56:04.361514Z"
    }
   },
   "outputs": [],
   "source": [
    "def func():\n",
    "    a = (1, 2, 3, 4)\n",
    "    print(a)\n",
    "    return a "
   ]
  },
  {
   "cell_type": "code",
   "outputs": [],
   "source": [
    "def outer(origin):\n",
    "    def inner_func(*args, **kwargs):\n",
    "        print('before')\n",
    "        res = origin(*args, **kwargs)\n",
    "        print('after')\n",
    "        return res\n",
    "    return inner_func"
   ],
   "metadata": {
    "collapsed": false,
    "ExecuteTime": {
     "end_time": "2024-03-25T08:10:10.880769Z",
     "start_time": "2024-03-25T08:10:10.878246Z"
    }
   },
   "id": "c894d8b7507047d8",
   "execution_count": 13
  },
  {
   "cell_type": "code",
   "outputs": [
    {
     "name": "stdout",
     "output_type": "stream",
     "text": [
      "(1, 2, 3, 4)\n",
      "None\n"
     ]
    }
   ],
   "source": [
    "hh = outer(func)\n",
    "result = hh()\n",
    "print(result)"
   ],
   "metadata": {
    "collapsed": false,
    "ExecuteTime": {
     "end_time": "2024-03-25T07:58:11.617477Z",
     "start_time": "2024-03-25T07:58:11.615447Z"
    }
   },
   "id": "d68c91c593bf74fb",
   "execution_count": 5
  },
  {
   "cell_type": "code",
   "outputs": [],
   "source": [
    "@outer\n",
    "def func1():\n",
    "    a = (1, 2, 3, 4)\n",
    "    print(a)\n",
    "    return a \n",
    "\n",
    "@outer\n",
    "def func2(a):\n",
    "    print(a)\n",
    "    return a "
   ],
   "metadata": {
    "collapsed": false,
    "ExecuteTime": {
     "end_time": "2024-03-25T08:10:12.037269Z",
     "start_time": "2024-03-25T08:10:12.035108Z"
    }
   },
   "id": "3188a5f77b582a5f",
   "execution_count": 14
  },
  {
   "cell_type": "code",
   "outputs": [
    {
     "name": "stdout",
     "output_type": "stream",
     "text": [
      "before\n",
      "3\n",
      "after\n",
      "3\n"
     ]
    }
   ],
   "source": [
    "result = func2(3)\n",
    "print(result)"
   ],
   "metadata": {
    "collapsed": false,
    "ExecuteTime": {
     "end_time": "2024-03-25T08:10:13.219275Z",
     "start_time": "2024-03-25T08:10:13.216932Z"
    }
   },
   "id": "97bb876d12f71b4d",
   "execution_count": 15
  }
 ],
 "metadata": {
  "kernelspec": {
   "display_name": "Python 3",
   "language": "python",
   "name": "python3"
  },
  "language_info": {
   "codemirror_mode": {
    "name": "ipython",
    "version": 2
   },
   "file_extension": ".py",
   "mimetype": "text/x-python",
   "name": "python",
   "nbconvert_exporter": "python",
   "pygments_lexer": "ipython2",
   "version": "2.7.6"
  }
 },
 "nbformat": 4,
 "nbformat_minor": 5
}
