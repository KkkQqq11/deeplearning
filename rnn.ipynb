{
 "cells": [
  {
   "cell_type": "markdown",
   "source": [
    "# RNN\n",
    "$$h_i = tanh(W_x x_i + W_h h_{i-1} + b)$$\n",
    "$$y_i=F(h_i)$$\n",
    "梯度：\n",
    "$$\\Delta w_1=\\frac{\\partial Loss}{\\partial w_2}=\\frac{\\partial Loss}{\\partial h_n}\\frac{\\partial h_n}{\\partial h_{n-1}}\\frac{\\partial h_{n-1}}{\\partial h_{n-2}}\\cdots\\frac{\\partial h_3}{\\partial h_2}\\frac{\\partial h_2}{\\partial w_2}$$"
   ],
   "metadata": {
    "collapsed": false
   },
   "id": "b0f5df344f4cc99c"
  },
  {
   "cell_type": "code",
   "execution_count": null,
   "id": "initial_id",
   "metadata": {
    "collapsed": true
   },
   "outputs": [],
   "source": []
  }
 ],
 "metadata": {
  "kernelspec": {
   "display_name": "Python 3",
   "language": "python",
   "name": "python3"
  },
  "language_info": {
   "codemirror_mode": {
    "name": "ipython",
    "version": 2
   },
   "file_extension": ".py",
   "mimetype": "text/x-python",
   "name": "python",
   "nbconvert_exporter": "python",
   "pygments_lexer": "ipython2",
   "version": "2.7.6"
  }
 },
 "nbformat": 4,
 "nbformat_minor": 5
}
