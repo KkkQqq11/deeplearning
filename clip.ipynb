{
 "cells": [
  {
   "cell_type": "code",
   "execution_count": 1,
   "id": "initial_id",
   "metadata": {
    "collapsed": true,
    "ExecuteTime": {
     "end_time": "2024-03-24T02:57:58.092822Z",
     "start_time": "2024-03-24T02:57:56.397989Z"
    }
   },
   "outputs": [
    {
     "name": "stderr",
     "output_type": "stream",
     "text": [
      "/home/ai02/miniconda3/envs/kk/lib/python3.8/site-packages/transformers/utils/generic.py:441: UserWarning: torch.utils._pytree._register_pytree_node is deprecated. Please use torch.utils._pytree.register_pytree_node instead.\n",
      "  _torch_pytree._register_pytree_node(\n",
      "/home/ai02/miniconda3/envs/kk/lib/python3.8/site-packages/transformers/utils/generic.py:309: UserWarning: torch.utils._pytree._register_pytree_node is deprecated. Please use torch.utils._pytree.register_pytree_node instead.\n",
      "  _torch_pytree._register_pytree_node(\n",
      "/home/ai02/miniconda3/envs/kk/lib/python3.8/site-packages/transformers/utils/generic.py:309: UserWarning: torch.utils._pytree._register_pytree_node is deprecated. Please use torch.utils._pytree.register_pytree_node instead.\n",
      "  _torch_pytree._register_pytree_node(\n"
     ]
    }
   ],
   "source": [
    "from PIL import Image\n",
    "import requests\n",
    "\n",
    "from transformers import CLIPProcessor, CLIPModel"
   ]
  },
  {
   "cell_type": "code",
   "outputs": [],
   "source": [
    "model = CLIPModel.from_pretrained('/home/ai02/Desktop/clip-vit-base-patch32')\n",
    "processor = CLIPProcessor.from_pretrained('/home/ai02/Desktop/clip-vit-base-patch32')\n",
    "image = Image.open('/media/ai02/43633275BF4935F0/kk/datasets/RUOD/images/test/003926.jpg')"
   ],
   "metadata": {
    "collapsed": false,
    "ExecuteTime": {
     "end_time": "2024-03-24T03:17:12.389872Z",
     "start_time": "2024-03-24T03:17:11.917136Z"
    }
   },
   "id": "6ac0a5899f853364",
   "execution_count": 15
  },
  {
   "cell_type": "code",
   "outputs": [],
   "source": [
    "text = ['God', 'turtle', 'bus']\n",
    "inputs = processor(text=text, images=image, return_tensors='pt', padding=True)\n",
    "\n",
    "output = model(**inputs)\n",
    "logits = output.logits_per_image"
   ],
   "metadata": {
    "collapsed": false,
    "ExecuteTime": {
     "end_time": "2024-03-24T03:17:13.708654Z",
     "start_time": "2024-03-24T03:17:13.592924Z"
    }
   },
   "id": "63f6cf67121315b2",
   "execution_count": 16
  },
  {
   "cell_type": "code",
   "outputs": [
    {
     "name": "stdout",
     "output_type": "stream",
     "text": [
      "tensor([[2.1311e-04, 9.9976e-01, 2.5429e-05]], grad_fn=<SoftmaxBackward0>)\n"
     ]
    }
   ],
   "source": [
    "print(logits.softmax(dim=1))"
   ],
   "metadata": {
    "collapsed": false,
    "ExecuteTime": {
     "end_time": "2024-03-24T03:17:16.069408Z",
     "start_time": "2024-03-24T03:17:16.066624Z"
    }
   },
   "id": "e32310955f1cf08f",
   "execution_count": 17
  }
 ],
 "metadata": {
  "kernelspec": {
   "display_name": "Python 3",
   "language": "python",
   "name": "python3"
  },
  "language_info": {
   "codemirror_mode": {
    "name": "ipython",
    "version": 2
   },
   "file_extension": ".py",
   "mimetype": "text/x-python",
   "name": "python",
   "nbconvert_exporter": "python",
   "pygments_lexer": "ipython2",
   "version": "2.7.6"
  }
 },
 "nbformat": 4,
 "nbformat_minor": 5
}
