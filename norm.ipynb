{
 "cells": [
  {
   "cell_type": "markdown",
   "source": [
    "![norm区别](images/norm.jpg)"
   ],
   "metadata": {
    "collapsed": false
   },
   "id": "e6903a8123a4e830"
  },
  {
   "cell_type": "code",
   "execution_count": 1,
   "id": "initial_id",
   "metadata": {
    "collapsed": true,
    "ExecuteTime": {
     "end_time": "2024-03-22T04:52:35.262583Z",
     "start_time": "2024-03-22T04:52:34.331449Z"
    }
   },
   "outputs": [],
   "source": [
    "import  torch\n",
    "import torch.nn as nn"
   ]
  },
  {
   "cell_type": "markdown",
   "source": [
    "# BatchNorm"
   ],
   "metadata": {
    "collapsed": false
   },
   "id": "6a307f859070ab21"
  },
  {
   "cell_type": "markdown",
   "source": [
    "## 1d"
   ],
   "metadata": {
    "collapsed": false
   },
   "id": "4eb152f0a98d9f27"
  },
  {
   "cell_type": "code",
   "outputs": [],
   "source": [
    "input1d = torch.rand([1, 16, 8])"
   ],
   "metadata": {
    "collapsed": false,
    "ExecuteTime": {
     "end_time": "2024-03-22T04:52:35.267070Z",
     "start_time": "2024-03-22T04:52:35.264236Z"
    }
   },
   "id": "3e13ebf76c97c406",
   "execution_count": 2
  },
  {
   "cell_type": "code",
   "outputs": [],
   "source": [
    "class BatchNorm1d(nn.Module):\n",
    "    def __init__(self, num_features, eps=1e-5, affine=True, momentum=0.1):\n",
    "        super(BatchNorm1d, self).__init__()\n",
    "        self.num_features = num_features\n",
    "        self.eps = eps\n",
    "        self.affine = affine\n",
    "        self.momentum = momentum\n",
    "        if self.affine:\n",
    "            self.gamma = nn.Parameter(torch.ones(num_features))\n",
    "            self.beta = nn.Parameter(torch.zeros(num_features))\n",
    "        self.running_mean = torch.zeros(num_features)\n",
    "        self.running_var = torch.ones(num_features)\n",
    "\n",
    "    def forward(self, x):\n",
    "        if self.training:\n",
    "            mean = x.mean(dim=(0, 2), keepdim=True)\n",
    "            var = x.var(dim=(0, 2), keepdim=True)\n",
    "\n",
    "            self.running_mean = (1 - self.momentum) * self.running_mean + self.momentum * mean\n",
    "            self.running_var = (1 - self.momentum) * self.running_var + self.momentum * var\n",
    "\n",
    "            x = (x - mean) / torch.sqrt(var + self.eps)\n",
    "        else:\n",
    "            x = (x - self.running_mean) / torch.sqrt(self.running_var + self.eps)\n",
    "            \n",
    "        if self.affine:\n",
    "            gamma = self.gamma.view(-1, self.num_features, 1)\n",
    "            beta = self.beta.view(-1, self.num_features, 1)\n",
    "            x = x * gamma + beta \n",
    "        else:\n",
    "            x = x\n",
    "\n",
    "        return x\n",
    "        "
   ],
   "metadata": {
    "collapsed": false,
    "ExecuteTime": {
     "end_time": "2024-03-22T04:52:35.289003Z",
     "start_time": "2024-03-22T04:52:35.268022Z"
    }
   },
   "id": "de0b25b3e9a739a3",
   "execution_count": 3
  },
  {
   "cell_type": "code",
   "outputs": [
    {
     "name": "stdout",
     "output_type": "stream",
     "text": [
      "tensor([[[ 0.5960,  0.8313,  0.6152, -1.4633,  0.4611,  0.9951, -1.2995,\n",
      "          -0.7359],\n",
      "         [-0.9752,  1.1073,  0.8393, -1.2079,  0.2049,  1.2339, -1.0320,\n",
      "          -0.1703],\n",
      "         [-0.7298, -1.0172, -1.0992,  1.4411,  0.4301, -0.3318,  1.3597,\n",
      "          -0.0529],\n",
      "         [ 0.3910,  0.8435,  1.3500, -1.4165, -1.2262,  0.0171,  0.6535,\n",
      "          -0.6125],\n",
      "         [ 1.2534, -0.8185,  0.4294,  1.4548, -0.1749, -0.6165, -0.1008,\n",
      "          -1.4270],\n",
      "         [-0.7613, -0.8938,  0.8515,  0.1755,  0.8813, -0.2646, -1.4117,\n",
      "           1.4232],\n",
      "         [ 1.8254, -0.7065, -1.0122,  0.1860,  0.1590,  0.5990,  0.2404,\n",
      "          -1.2911],\n",
      "         [-0.5346, -1.2030, -0.8009,  0.8029,  0.9485,  0.9422,  0.9668,\n",
      "          -1.1218],\n",
      "         [-1.4419,  1.2935,  0.6110,  0.9958, -1.0204,  0.0730, -0.8488,\n",
      "           0.3379],\n",
      "         [-0.6304, -0.1720,  0.2143, -1.8982,  1.4405,  0.9035,  0.1749,\n",
      "          -0.0328],\n",
      "         [ 0.6675, -1.5449,  0.7047, -0.1570, -1.5521,  0.8093,  0.5924,\n",
      "           0.4802],\n",
      "         [-1.2550, -0.5876,  0.7030,  0.6271, -1.5583,  0.4153,  1.1596,\n",
      "           0.4960],\n",
      "         [ 1.1955,  0.2250, -0.8134, -1.1524, -1.2662,  1.1838, -0.0915,\n",
      "           0.7192],\n",
      "         [ 0.4959, -0.0881,  1.1244,  0.8114, -0.7839, -0.9733, -1.5361,\n",
      "           0.9496],\n",
      "         [-1.4473, -0.4390, -0.3377, -0.1943, -0.7632,  1.6490,  0.5616,\n",
      "           0.9708],\n",
      "         [-1.0892,  0.0492, -0.6034,  1.2045, -1.2492, -0.2095,  1.4923,\n",
      "           0.4054]]], grad_fn=<AddBackward0>)\n"
     ]
    }
   ],
   "source": [
    "model = BatchNorm1d(16)\n",
    "output1d = model(input1d)\n",
    "print(output1d)"
   ],
   "metadata": {
    "collapsed": false,
    "ExecuteTime": {
     "end_time": "2024-03-22T04:52:35.307391Z",
     "start_time": "2024-03-22T04:52:35.290092Z"
    }
   },
   "id": "a0090d53c00f925f",
   "execution_count": 4
  },
  {
   "cell_type": "markdown",
   "source": [
    "## 2d"
   ],
   "metadata": {
    "collapsed": false
   },
   "id": "65394c36e61bf526"
  },
  {
   "cell_type": "code",
   "outputs": [],
   "source": [
    "input2d = torch.rand([1, 16, 8, 8])"
   ],
   "metadata": {
    "collapsed": false,
    "ExecuteTime": {
     "end_time": "2024-03-22T04:52:35.315843Z",
     "start_time": "2024-03-22T04:52:35.309222Z"
    }
   },
   "id": "91b64ad989a5f08f",
   "execution_count": 5
  },
  {
   "cell_type": "code",
   "outputs": [
    {
     "name": "stdout",
     "output_type": "stream",
     "text": [
      "torch.Size([1, 16, 1, 1])\n",
      "torch.Size([1, 16, 1, 1])\n"
     ]
    }
   ],
   "source": [
    "mean = input2d.mean(dim=(0, 2, 3), keepdim=True)\n",
    "print(mean.shape)\n",
    "std = input2d.std(dim=(0, 2, 3), keepdim=True)\n",
    "print(std.shape)"
   ],
   "metadata": {
    "collapsed": false,
    "ExecuteTime": {
     "end_time": "2024-03-22T04:52:35.327551Z",
     "start_time": "2024-03-22T04:52:35.316964Z"
    }
   },
   "id": "70ef3b5465496170",
   "execution_count": 6
  },
  {
   "cell_type": "code",
   "outputs": [],
   "source": [
    "eps = 1e-5\n",
    "output2d = (input2d - mean) / (std + eps)"
   ],
   "metadata": {
    "collapsed": false,
    "ExecuteTime": {
     "end_time": "2024-03-22T04:52:35.337787Z",
     "start_time": "2024-03-22T04:52:35.328641Z"
    }
   },
   "id": "14c04d56fd01109f",
   "execution_count": 7
  },
  {
   "cell_type": "code",
   "outputs": [],
   "source": [
    "gamma = nn.Parameter(torch.ones(1))\n",
    "beta = nn.Parameter(torch.zeros(1))"
   ],
   "metadata": {
    "collapsed": false,
    "ExecuteTime": {
     "end_time": "2024-03-22T04:52:35.347944Z",
     "start_time": "2024-03-22T04:52:35.338992Z"
    }
   },
   "id": "41706f690880bf90",
   "execution_count": 8
  },
  {
   "cell_type": "code",
   "outputs": [
    {
     "name": "stdout",
     "output_type": "stream",
     "text": [
      "torch.Size([1, 16, 8, 8])\n",
      "tensor([[[[-0.7997, -0.7983,  0.6877,  ...,  0.4897, -0.3405,  1.0869],\n",
      "          [ 0.2796,  0.3648, -0.7188,  ..., -1.5560, -0.5061, -0.7525],\n",
      "          [ 1.2428, -0.2352,  0.8057,  ..., -0.2242,  0.2509,  1.2705],\n",
      "          ...,\n",
      "          [-1.6327, -1.2960,  0.4697,  ..., -0.7320,  1.5242, -0.6756],\n",
      "          [ 1.2305, -1.2716, -0.9035,  ..., -1.6069, -0.5505,  1.2934],\n",
      "          [ 0.2192, -0.2585, -1.8619,  ...,  1.3145, -0.8481, -0.5181]],\n",
      "\n",
      "         [[ 0.3205, -0.9347,  0.2362,  ..., -0.0274,  0.4405, -0.6519],\n",
      "          [ 0.2510,  0.6514, -1.3852,  ...,  1.5202,  0.5433,  0.0304],\n",
      "          [ 1.6673,  0.4863,  1.6395,  ...,  1.3789, -0.2588, -0.4868],\n",
      "          ...,\n",
      "          [ 1.4345, -0.8684, -0.3006,  ..., -0.6162,  0.5256,  0.8682],\n",
      "          [ 0.2931,  1.0929, -0.9162,  ...,  1.0609,  1.5486,  0.0683],\n",
      "          [-1.6798, -0.9895, -1.6714,  ...,  1.3219,  0.8478, -0.6009]],\n",
      "\n",
      "         [[-0.9378, -1.7379,  0.3574,  ...,  1.2035, -0.7857,  1.1044],\n",
      "          [ 0.2607,  0.1165, -0.7682,  ..., -1.7392,  0.0862,  1.2871],\n",
      "          [-0.3771,  0.3165, -0.3668,  ..., -1.6886, -1.3243,  1.0964],\n",
      "          ...,\n",
      "          [ 1.0644,  1.2790, -1.3218,  ...,  1.0902, -0.4500,  0.0423],\n",
      "          [ 0.7823,  0.6828,  0.9660,  ...,  0.3175,  1.5366,  1.4458],\n",
      "          [ 0.3776, -0.0483,  1.2694,  ...,  1.0645, -1.5262, -0.4912]],\n",
      "\n",
      "         ...,\n",
      "\n",
      "         [[-0.3650,  0.2475,  0.8799,  ..., -0.6575,  0.7952, -0.9656],\n",
      "          [-1.2461, -1.3623, -0.2408,  ..., -1.2074,  0.5895,  0.0559],\n",
      "          [-0.2249, -1.2425, -0.0380,  ...,  0.3707,  1.7715,  0.6706],\n",
      "          ...,\n",
      "          [ 1.4326,  1.8877, -0.7181,  ...,  0.4229, -1.0504, -0.9866],\n",
      "          [ 0.8046, -0.6407, -1.0822,  ..., -0.6693, -1.0954, -0.1432],\n",
      "          [ 1.2870, -0.0175,  0.4832,  ...,  1.0067,  1.2591, -0.8346]],\n",
      "\n",
      "         [[-0.6416,  0.8559, -0.3497,  ...,  1.0836, -0.4630, -0.5134],\n",
      "          [-0.1453,  1.5712, -0.2788,  ...,  0.7164, -0.7598,  1.4340],\n",
      "          [-1.2762,  0.7738, -0.9312,  ..., -0.1191, -1.3678, -0.1722],\n",
      "          ...,\n",
      "          [ 0.8537,  1.3769, -0.1827,  ...,  1.2217, -0.6399, -1.4405],\n",
      "          [ 1.6068,  1.0583,  1.2794,  ...,  0.4776, -1.3779,  0.5862],\n",
      "          [-1.1850,  1.5567,  0.1959,  ..., -1.2295, -1.3218,  1.0685]],\n",
      "\n",
      "         [[ 0.2280, -1.1707,  0.0119,  ..., -0.0368,  1.2806, -1.2167],\n",
      "          [-0.9576, -0.6406,  0.2892,  ..., -1.4377, -0.6685,  0.1309],\n",
      "          [-1.0735,  0.5570,  0.2427,  ..., -0.1396,  1.4197, -1.0677],\n",
      "          ...,\n",
      "          [ 0.2148, -1.0778,  0.3243,  ...,  0.5054,  0.6137, -0.1154],\n",
      "          [ 1.0239, -1.1746, -0.0938,  ...,  0.2366, -1.3293,  1.0866],\n",
      "          [ 1.1688,  0.7224,  0.2325,  ..., -0.5576, -0.8259, -1.1144]]]],\n",
      "       grad_fn=<AddBackward0>)\n"
     ]
    }
   ],
   "source": [
    "output2d = gamma * output2d + beta\n",
    "print(output2d.shape)\n",
    "print(output2d)"
   ],
   "metadata": {
    "collapsed": false,
    "ExecuteTime": {
     "end_time": "2024-03-22T04:52:35.361979Z",
     "start_time": "2024-03-22T04:52:35.348983Z"
    }
   },
   "id": "b07577becf0ba4e4",
   "execution_count": 9
  },
  {
   "cell_type": "code",
   "outputs": [],
   "source": [
    "class BatchNorm2d(nn.Module):\n",
    "    def __init__(self, num_features, eps=1e-5, affine=True, momentum=0.1):\n",
    "        super(BatchNorm2d, self).__init__()\n",
    "        self.num_features = num_features\n",
    "        self.eps = eps\n",
    "        self.affine = affine\n",
    "        self.momentum = momentum\n",
    "        if affine:\n",
    "            self.gamma = nn.Parameter(torch.ones(num_features))\n",
    "            self.beta = nn.Parameter(torch.zeros(num_features))\n",
    "        self.running_mean = torch.zeros(num_features)\n",
    "        self.running_var = torch.ones(num_features)\n",
    "\n",
    "    def forward(self, x):\n",
    "        if self.training:\n",
    "            mean = x.mean(dim=(0, 2, 3), keepdim=True)\n",
    "            var = x.var(dim=(0, 2, 3), keepdim=True)\n",
    "\n",
    "            self.running_mean = (1 - self.momentum) * self.running_mean + self.momentum * mean\n",
    "            self.running_var = (1 - self.momentum) * self.running_var + self.momentum * var\n",
    "\n",
    "            x = (x - mean) / torch.sqrt(var + self.eps)\n",
    "        else:\n",
    "            x = (x - self.running_mean) / torch.sqrt(self.running_var + self.eps)\n",
    "        \n",
    "        if self.affine:\n",
    "            gamma = self.gamma.view(-1, self.num_features, 1, 1)\n",
    "            beta = self.beta.view(-1, self.num_features, 1, 1)\n",
    "            x = x * gamma + beta\n",
    "        else:\n",
    "            x = x\n",
    "\n",
    "        return  x"
   ],
   "metadata": {
    "collapsed": false,
    "ExecuteTime": {
     "end_time": "2024-03-22T04:52:35.370416Z",
     "start_time": "2024-03-22T04:52:35.363116Z"
    }
   },
   "id": "10791a4bb3f22a3b",
   "execution_count": 10
  },
  {
   "cell_type": "code",
   "outputs": [
    {
     "name": "stdout",
     "output_type": "stream",
     "text": [
      "torch.Size([1, 16, 8, 8])\n"
     ]
    }
   ],
   "source": [
    "model = BatchNorm2d(16)\n",
    "output2d = model(input2d)\n",
    "print(output2d.shape)"
   ],
   "metadata": {
    "collapsed": false,
    "ExecuteTime": {
     "end_time": "2024-03-22T04:52:35.386522Z",
     "start_time": "2024-03-22T04:52:35.371254Z"
    }
   },
   "id": "d8e9747290c25f0b",
   "execution_count": 11
  },
  {
   "cell_type": "markdown",
   "source": [
    "## LayerNorm"
   ],
   "metadata": {
    "collapsed": false
   },
   "id": "793941820e4e3e3d"
  },
  {
   "cell_type": "markdown",
   "source": [
    "## 1d"
   ],
   "metadata": {
    "collapsed": false
   },
   "id": "b2c48026f780ba6c"
  },
  {
   "cell_type": "code",
   "outputs": [],
   "source": [
    "class LayerNorm1D(nn.Module):\n",
    "    def __init__(self, num_features, eps=1e-5):\n",
    "        super(LayerNorm1D, self).__init__()\n",
    "        self.eps = eps\n",
    "        self.num_features = num_features\n",
    "        self.gamma = nn.Parameter(torch.ones(num_features))  # 缩放参数\n",
    "        self.beta = nn.Parameter(torch.zeros(num_features))  # 偏移参数\n",
    "\n",
    "    def forward(self, x):\n",
    "        # 计算输入x的均值和方差\n",
    "        mean = x.mean(dim=(1, 2), keepdim=True)\n",
    "        var = x.var(dim=(1, 2), keepdim=True, unbiased=False)\n",
    "\n",
    "        # 归一化\n",
    "        x_normalized = (x - mean) / torch.sqrt(var + self.eps)\n",
    "        \n",
    "        gamma = self.gamma.view(-1, self.num_features, 1)\n",
    "        beta = self.beta.view(-1, self.num_features, 1)\n",
    "        \n",
    "        # 缩放和偏移\n",
    "        y = gamma * x_normalized + beta\n",
    "        \n",
    "        return y"
   ],
   "metadata": {
    "collapsed": false,
    "ExecuteTime": {
     "end_time": "2024-03-22T04:52:35.396919Z",
     "start_time": "2024-03-22T04:52:35.387565Z"
    }
   },
   "id": "7057ee232d1c098d",
   "execution_count": 12
  },
  {
   "cell_type": "code",
   "outputs": [
    {
     "name": "stdout",
     "output_type": "stream",
     "text": [
      "torch.Size([1, 16, 8])\n"
     ]
    }
   ],
   "source": [
    "input1d = torch.randn([1, 16, 8])\n",
    "model = LayerNorm1D(16)\n",
    "output1d = model(input1d)\n",
    "print(output1d.shape)"
   ],
   "metadata": {
    "collapsed": false,
    "ExecuteTime": {
     "end_time": "2024-03-22T04:52:35.413310Z",
     "start_time": "2024-03-22T04:52:35.398116Z"
    }
   },
   "id": "9bae7926a906b629",
   "execution_count": 13
  },
  {
   "cell_type": "markdown",
   "source": [
    "## 2d"
   ],
   "metadata": {
    "collapsed": false
   },
   "id": "e8b1ab0870e9fd4b"
  },
  {
   "cell_type": "code",
   "outputs": [],
   "source": [
    "class LayerNorm2D(nn.Module):\n",
    "    def __init__(self, num_features, eps=1e-5):\n",
    "        super(LayerNorm2D, self).__init__()\n",
    "        self.eps = eps\n",
    "        self.num_features = num_features\n",
    "        self.gamma = nn.Parameter(torch.ones(num_features))  # 缩放参数\n",
    "        self.beta = nn.Parameter(torch.zeros(num_features))  # 偏移参数\n",
    "\n",
    "    def forward(self, x):\n",
    "        # 计算输入x的均值和方差\n",
    "        mean = x.mean(dim=(1, 2, 3), keepdim=True)\n",
    "        var = x.var(dim=(1, 2, 3), keepdim=True, unbiased=False)\n",
    "\n",
    "        # 归一化\n",
    "        x_normalized = (x - mean) / torch.sqrt(var + self.eps)\n",
    "        \n",
    "        gamma = self.gamma.view(-1, self.num_features, 1, 1)\n",
    "        beta = self.beta.view(-1, self.num_features, 1, 1)\n",
    "        \n",
    "        # 缩放和偏移\n",
    "        y = gamma * x_normalized + beta\n",
    "        \n",
    "        return y"
   ],
   "metadata": {
    "collapsed": false,
    "ExecuteTime": {
     "end_time": "2024-03-22T04:52:35.423806Z",
     "start_time": "2024-03-22T04:52:35.415176Z"
    }
   },
   "id": "f69baf5ea94e23d",
   "execution_count": 14
  },
  {
   "cell_type": "code",
   "outputs": [
    {
     "name": "stdout",
     "output_type": "stream",
     "text": [
      "torch.Size([1, 16, 8, 8])\n"
     ]
    }
   ],
   "source": [
    "input2d = torch.randn([1, 16, 8, 8])\n",
    "model = LayerNorm2D(16)\n",
    "output2d = model(input2d)\n",
    "print(output2d.shape)"
   ],
   "metadata": {
    "collapsed": false,
    "ExecuteTime": {
     "end_time": "2024-03-22T04:52:35.436263Z",
     "start_time": "2024-03-22T04:52:35.425084Z"
    }
   },
   "id": "489f751fc9b35e6b",
   "execution_count": 15
  },
  {
   "cell_type": "markdown",
   "source": [
    "## InstanceNorm"
   ],
   "metadata": {
    "collapsed": false
   },
   "id": "dedbcc370758dc6f"
  },
  {
   "cell_type": "code",
   "outputs": [],
   "source": [
    "class InstanceNorm2d(nn.Module):\n",
    "    def __init__(self, num_features, eps=1e-5, affine=True, momentum=0.1):\n",
    "        super(InstanceNorm2d, self).__init__()\n",
    "        self.num_features = num_features\n",
    "        self.eps = eps\n",
    "        self.affine = affine\n",
    "        self.gamma = nn.Parameter(torch.ones(num_features))\n",
    "        self.beta = nn.Parameter(torch.zeros(num_features))\n",
    "\n",
    "    def forward(self, x):\n",
    "        mean = x.mean(dim=(2, 3), keepdim=True)\n",
    "        var = x.var(dim=(2, 3), keepdim=True)\n",
    "\n",
    "        x = (x - mean) / torch.sqrt(var + self.eps)\n",
    "        \n",
    "        gamma = self.gamma.view(-1, self.num_features, 1, 1)\n",
    "        beta = self.beta.view(-1, self.num_features, 1, 1)\n",
    "\n",
    "        return x * gamma + beta if self.affine else x"
   ],
   "metadata": {
    "collapsed": false,
    "ExecuteTime": {
     "end_time": "2024-03-22T04:52:35.448367Z",
     "start_time": "2024-03-22T04:52:35.437622Z"
    }
   },
   "id": "87e00b75d84e44e0",
   "execution_count": 16
  },
  {
   "cell_type": "code",
   "outputs": [
    {
     "name": "stdout",
     "output_type": "stream",
     "text": [
      "torch.Size([1, 16, 8, 8])\n"
     ]
    }
   ],
   "source": [
    "input2d = torch.randn([1, 16, 8, 8])\n",
    "model = InstanceNorm2d(16)\n",
    "output2d = model(input2d)\n",
    "print(output2d.shape)"
   ],
   "metadata": {
    "collapsed": false,
    "ExecuteTime": {
     "end_time": "2024-03-22T04:52:35.466220Z",
     "start_time": "2024-03-22T04:52:35.449708Z"
    }
   },
   "id": "e7607114bb2b360d",
   "execution_count": 17
  },
  {
   "cell_type": "markdown",
   "source": [
    "# WeightNorm"
   ],
   "metadata": {
    "collapsed": false
   },
   "id": "d46678c311ce153b"
  },
  {
   "cell_type": "code",
   "outputs": [
    {
     "data": {
      "text/plain": "torch.Size([10, 20])"
     },
     "execution_count": 18,
     "metadata": {},
     "output_type": "execute_result"
    }
   ],
   "source": [
    "model = nn.Embedding(10, 20)\n",
    "model.weight.shape"
   ],
   "metadata": {
    "collapsed": false,
    "ExecuteTime": {
     "end_time": "2024-03-22T04:52:35.479366Z",
     "start_time": "2024-03-22T04:52:35.467414Z"
    }
   },
   "id": "ef90d01749ae1fe7",
   "execution_count": 18
  },
  {
   "cell_type": "markdown",
   "source": [
    "# GroupNorm"
   ],
   "metadata": {
    "collapsed": false
   },
   "id": "5056958d6c3e05a7"
  },
  {
   "cell_type": "code",
   "outputs": [],
   "source": [
    "class GroupNorm(nn.Module):\n",
    "    def __init__(self, num_channels, num_groups, eps=1e-5, affine=True):\n",
    "        super(GroupNorm, self).__init__()\n",
    "        self.num_groups = num_groups\n",
    "        self.eps = eps\n",
    "        self.affine = affine\n",
    "        if self.affine:\n",
    "            self.gamma = nn.Parameter(torch.ones(1, num_channels, 1, 1))\n",
    "            self.beta = nn.Parameter(torch.zeros(1, num_channels, 1, 1))\n",
    "        \n",
    "    def forward(self, x):\n",
    "        N, C, H, W = x.shape\n",
    "        # 确保通道数能被组数整除\n",
    "        assert C % self.num_groups == 0, 'num_channels must be divisible by num_groups'\n",
    "        \n",
    "        # 重塑x以便将通道分组，形状为(N, G, C // G, H, W)\n",
    "        x = x.view(N, self.num_groups, C // self.num_groups, H, W)\n",
    "        # 计算每组的均值和方差\n",
    "        mean = x.mean(dim=(2, 3, 4), keepdim=True)\n",
    "        var = x.var(dim=(2, 3, 4), keepdim=True, unbiased=False)\n",
    "        \n",
    "        # 归一化\n",
    "        x = (x - mean) / torch.sqrt(var + self.eps)\n",
    "        \n",
    "        # 改变形状回(N, C, H, W)\n",
    "        x = x.view(N, C, H, W)\n",
    "        return x * self.gamma + self.beta if self.affine else x\n"
   ],
   "metadata": {
    "collapsed": false
   },
   "id": "de4bc56ab9d9e5de"
  },
  {
   "cell_type": "code",
   "outputs": [],
   "source": [],
   "metadata": {
    "collapsed": false
   },
   "id": "520a0e8bd79596c4"
  }
 ],
 "metadata": {
  "kernelspec": {
   "display_name": "Python 3",
   "language": "python",
   "name": "python3"
  },
  "language_info": {
   "codemirror_mode": {
    "name": "ipython",
    "version": 2
   },
   "file_extension": ".py",
   "mimetype": "text/x-python",
   "name": "python",
   "nbconvert_exporter": "python",
   "pygments_lexer": "ipython2",
   "version": "2.7.6"
  }
 },
 "nbformat": 4,
 "nbformat_minor": 5
}
